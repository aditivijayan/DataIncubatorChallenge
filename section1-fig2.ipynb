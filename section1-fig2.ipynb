{
 "cells": [
  {
   "cell_type": "code",
   "execution_count": 1,
   "metadata": {},
   "outputs": [],
   "source": [
    "import pandas as pd\n",
    "import numpy as np\n",
    "import matplotlib.pyplot as plt\n",
    "import matplotlib as mpl\n",
    "mpl.rcParams['agg.path.chunksize'] = 10000"
   ]
  },
  {
   "cell_type": "code",
   "execution_count": 2,
   "metadata": {},
   "outputs": [],
   "source": [
    "\n",
    "plt.rcParams['font.size']=20\n",
    "plt.rcParams['axes.linewidth']=2\n",
    "plt.rcParams['xtick.major.size']=10\n",
    "plt.rcParams['xtick.minor.size']=5\n",
    "plt.rcParams['xtick.major.width']=2\n",
    "plt.rcParams['xtick.minor.width']=1\n",
    "plt.rcParams['xtick.direction']='in'\n",
    "plt.rcParams['ytick.major.size']=10\n",
    "plt.rcParams['ytick.minor.size']=5\n",
    "plt.rcParams['ytick.major.width']=2\n",
    "plt.rcParams['ytick.minor.width']=1\n",
    "plt.rcParams['ytick.direction']='in'"
   ]
  },
  {
   "cell_type": "code",
   "execution_count": 3,
   "metadata": {},
   "outputs": [],
   "source": [
    "kindle1 = pd.read_csv('ratings_Kindle_Store.csv')\n",
    "kindle = kindle1.rename(columns={'A2GZ9GFZV1LWB0':'User', '1603420304':'Item', '4.0':'Rating'})"
   ]
  },
  {
   "cell_type": "code",
   "execution_count": 4,
   "metadata": {
    "scrolled": true
   },
   "outputs": [
    {
     "data": {
      "text/plain": [
       "A13QTZ8CIMHHG4    2628\n",
       "A320TMDV6KCFU     1980\n",
       "A328S9RN3U5M68    1202\n",
       "A2WZJDFX12QXKD    1148\n",
       "A2G5IFYYHFIQNB    1133\n",
       "A5JZNVV4TEAWU      979\n",
       "A37LY77Q2YPJVL     976\n",
       "A3PTWPKPXOG8Y5     951\n",
       "A26J2TRDPZH7RZ     899\n",
       "A3KI93AT8FAXI1     891\n",
       "A3A7FF87LEVCQ1     818\n",
       "A1JLU5H1CCENWX     806\n",
       "A1E481YU3ZPK6S     756\n",
       "A3LXRIY0HE71K      727\n",
       "A2VXSQHJWZAQGY     724\n",
       "A3EPHBMU07LZ50     717\n",
       "A2JZCZYHNQHSCP     692\n",
       "A1UFU1Q1KSSWIY     684\n",
       "A3GSSX9XHONVCD     658\n",
       "AR9RKLQQC2L6K      649\n",
       "ANSX922QNYA67      643\n",
       "A2YJ8VP1SSHJ7      622\n",
       "A28REJAM6899K8     620\n",
       "AFVQZQ8PW0L        613\n",
       "ADDT2MU773IYL      612\n",
       "A1E1LEVQ9VQNK      611\n",
       "A20R37WRPLUM1D     609\n",
       "A2ZJHEB8K8JZR3     601\n",
       "A1DA6E4FNRSAWN     601\n",
       "ANOSVLTGRKABQ      600\n",
       "                  ... \n",
       "A1GQ2CYSRRTH6M       1\n",
       "A2W8728Y9PO4C1       1\n",
       "A26CLD0P9ML3J5       1\n",
       "A203MV2H9X6IH9       1\n",
       "A162C24RBF31M5       1\n",
       "A2UJQF5WYF8M9B       1\n",
       "A3T26TDX0ZEINP       1\n",
       "AWBUMDF1XO50W        1\n",
       "A3MYJ8I0WBLBD        1\n",
       "A3FS9RGMLW77MD       1\n",
       "A29XOYCEEOXYFK       1\n",
       "A1KELIVWEB8LWB       1\n",
       "A1LY1ZJTMUR6ED       1\n",
       "AIJTTVQLQQQM         1\n",
       "A3KOE4F83L6HWL       1\n",
       "AKGWNIO3APJ6F        1\n",
       "A2FYOTASUYZ34F       1\n",
       "A3KO98AQ3EIA5D       1\n",
       "A282DB3I18I7VM       1\n",
       "A3J08XKK8OIRU3       1\n",
       "A19OZRCBC7PT5J       1\n",
       "A2SBQT7MQFVP50       1\n",
       "A3HZLQG28MEDIP       1\n",
       "A142G3IVHI8IGG       1\n",
       "A2SWYN6LTCERHM       1\n",
       "A2MDC2RKAAXA4O       1\n",
       "A34HN8NK0KQEDN       1\n",
       "A2DNM5SL97RBP9       1\n",
       "A1BY1RNCSAUJX        1\n",
       "ARLXSUMR9LQ8I        1\n",
       "Name: User, Length: 1406889, dtype: int64"
      ]
     },
     "execution_count": 4,
     "metadata": {},
     "output_type": "execute_result"
    }
   ],
   "source": [
    "\n",
    "rating_list = kindle['User'].value_counts()\n",
    "max_rating = np.amax(rating_list)\n",
    "# rating_list.remove(max_rating)\n",
    "sorted_list = rating_list.sort_values(ascending=False)\n",
    "sorted_list"
   ]
  },
  {
   "cell_type": "code",
   "execution_count": 186,
   "metadata": {},
   "outputs": [],
   "source": [
    "#Rating Chart for the Most Active User\n",
    "most_rated = kindle[ kindle['User']== 'A2G5IFYYHFIQNB'] \n",
    "user_sort = most_rated.groupby('Item')\n",
    "rating = user_sort.Rating.mean()\n",
    "height1, bin_edge1 = np.histogram(rating, bins=bins)\n",
    "\n",
    "#Rating Chart for Another Active User\n",
    "sec_most_rated = kindle[ kindle['User']== 'A5JZNVV4TEAWU'] \n",
    "user_sort      = sec_most_rated.groupby('Item')\n",
    "rating         = user_sort.Rating.mean()\n",
    "height2, bin_edge2 = np.histogram(rating, bins=bins)\n"
   ]
  },
  {
   "cell_type": "code",
   "execution_count": 183,
   "metadata": {},
   "outputs": [
    {
     "data": {
      "image/png": "[encoded data removed]",
      "text/plain": [
       "<Figure size 1152x576 with 2 Axes>"
      ]
     },
     "metadata": {
      "needs_background": "light"
     },
     "output_type": "display_data"
    }
   ],
   "source": [
    "#Plotting Histograms for the two users\n",
    "f, ax = plt.subplots(1, 2, gridspec_kw = {'wspace':0.00, 'hspace':0.00},figsize=(16,8))\n",
    "\n",
    "ax[0].bar(bin_edge1[:-1], height1/np.sum(height1), width = 0.5, color='darkmagenta',alpha=0.7)\n",
    "ax[1].bar(bin_edge2[:-1], height2/np.sum(height2), width = 0.5, color='darkmagenta',alpha=0.7)\n",
    "ax[0].set_ylabel('Fraction of Total Ratings')\n",
    "ax[0].set_title('Most Active User')\n",
    "ax[1].set_title('Another Active User')\n",
    "plt.setp(ax, 'ylim', (0.,0.55))\n",
    "ax[0].tick_params('y', which='both', right=True, left=True, labelright=False, labelleft=True)\n",
    "ax[1].tick_params('y', which='both', left=True, labelleft=False, labelright=True, right=True)\n",
    "plt.setp(ax,'xlabel', 'Rating')\n",
    "plt.savefig('user_histograms.pdf', bbox_inches='tight', dpi=160)"
   ]
  }
 ],
 "metadata": {
  "kernelspec": {
   "display_name": "Python 3",
   "language": "python",
   "name": "python3"
  },
  "language_info": {
   "codemirror_mode": {
    "name": "ipython",
    "version": 3
   },
   "file_extension": ".py",
   "mimetype": "text/x-python",
   "name": "python",
   "nbconvert_exporter": "python",
   "pygments_lexer": "ipython3",
   "version": "3.6.10"
  }
 },
 "nbformat": 4,
 "nbformat_minor": 4
}
